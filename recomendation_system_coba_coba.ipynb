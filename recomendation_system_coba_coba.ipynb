{
  "nbformat": 4,
  "nbformat_minor": 0,
  "metadata": {
    "kernelspec": {
      "display_name": "Python 3",
      "language": "python",
      "name": "python3"
    },
    "language_info": {
      "codemirror_mode": {
        "name": "ipython",
        "version": 3
      },
      "file_extension": ".py",
      "mimetype": "text/x-python",
      "name": "python",
      "nbconvert_exporter": "python",
      "pygments_lexer": "ipython3",
      "version": "3.7.4"
    },
    "colab": {
      "name": "recomendation system coba-coba.ipynb",
      "provenance": [],
      "collapsed_sections": [],
      "include_colab_link": true
    },
    "accelerator": "GPU"
  },
  "cells": [
    {
      "cell_type": "markdown",
      "metadata": {
        "id": "view-in-github",
        "colab_type": "text"
      },
      "source": [
        "<a href=\"https://colab.research.google.com/github/sintiasnn/movie-recomendation/blob/main/recomendation_system_coba_coba.ipynb\" target=\"_parent\"><img src=\"https://colab.research.google.com/assets/colab-badge.svg\" alt=\"Open In Colab\"/></a>"
      ]
    },
    {
      "cell_type": "markdown",
      "metadata": {
        "id": "Al8l_Q5iL7IM"
      },
      "source": [
        "# **Movie Recomendation - Ni Putu Sintia Wati**"
      ]
    },
    {
      "cell_type": "markdown",
      "metadata": {
        "id": "Cs5XsyZqMCNa"
      },
      "source": [
        "## **Project Overview**\n",
        "\n",
        "Film menjadi salah satu hiburan yang tidak terkalahkan. Seiring perkembangan jaman, munculnya berbagai genre film serta layanan streaming yang beragam. Beragamnya genre membuat penikmat film bingung akan film yang ingin ditontonnya. Dalam hal ini, sistem rekomendasi menjadi salah satu cara untuk memberi saran kepada penikmat film tersebut. "
      ]
    },
    {
      "cell_type": "markdown",
      "metadata": {
        "id": "kw8ExD_ofLmD"
      },
      "source": [
        "## **Business Understanding**\n",
        "### **Problem Statements**\n",
        "- Bagaimana layanan streaming dapat merekomendasikan film lain yang mungkin disukai dan belum pernah ditonton oleh penikmat film?\n",
        "\n",
        "### **Goals**\n",
        "- Menghasilkan sejumlah rekomendasi film yang sesuai dengan preferensi pengguna dan belum pernah ditonton sebelumnya dengan teknik collaborative filtering.\n",
        "\n",
        "### **Solution statements**\n",
        "pada kasus ini, kami mengajukan metode collaborative filtering sebagai solusi permasalahan diatas. \n",
        "-  **collaborative filtering**\\\n",
        "    collaborative filtering merupakan teknik penyeleksian pada sistem rekomendasi yang memanfaatkan kesamaan antara pengguna dan item secara bersamaan untuk memberi rekomendasi. Collaborative filtering terdiri dari dua kategori, yaitu: model based (metode berbasis model machine learning) dan memory based (metode berbasis memori). \n"
      ]
    },
    {
      "cell_type": "markdown",
      "metadata": {
        "id": "P-7VqJoIHwW7"
      },
      "source": [
        "## **Data Understanding**\n",
        "\n",
        "Data yang digunakan untuk projek kali ini yaitu movie lens small latest dataset yang diunduh dari kaggle. (https://www.kaggle.com/shubhammehta21/movie-lens-small-latest-dataset).\n",
        "\n",
        "file yan terdapat pada dataset diatas adalah sebagai berikut:             \n",
        "- links.csv               \n",
        "- movies.csv              \n",
        "- ratings.csv             \n",
        "- tags.csv    "
      ]
    },
    {
      "cell_type": "markdown",
      "metadata": {
        "id": "7GRRIjg17apu"
      },
      "source": [
        "### **Data Loading**"
      ]
    },
    {
      "cell_type": "markdown",
      "metadata": {
        "id": "fiX5eW3z7kKJ"
      },
      "source": [
        "Memuat data yang akan digunakan untuk modeling nanti. Pertama, data akan didownload melalui kaggle. Lalu file tersebut akan diekstrak agar file dapat digunakan. Tidak lupa juga untuk import library yang akan digunakan. Setelah itu, lalu kita tampilkan jumlah data pada masing-masing file dengan fungsi len(). "
      ]
    },
    {
      "cell_type": "code",
      "metadata": {
        "colab": {
          "base_uri": "https://localhost:8080/"
        },
        "id": "EB0_OdIJICem",
        "outputId": "6481be96-816e-4015-dcba-1aa0e0ed0660"
      },
      "source": [
        "#Download dataset from Kaggle\n",
        "! pip install kaggle\n",
        "\n",
        "! mkdir ~/.kaggle\n",
        "! cp kaggle.json ~/.kaggle/\n",
        "! chmod 600 ~/.kaggle/kaggle.json\n",
        "! kaggle datasets download shubhammehta21/movie-lens-small-latest-dataset"
      ],
      "execution_count": null,
      "outputs": [
        {
          "output_type": "stream",
          "name": "stdout",
          "text": [
            "Requirement already satisfied: kaggle in /usr/local/lib/python3.7/dist-packages (1.5.12)\n",
            "Requirement already satisfied: python-slugify in /usr/local/lib/python3.7/dist-packages (from kaggle) (5.0.2)\n",
            "Requirement already satisfied: tqdm in /usr/local/lib/python3.7/dist-packages (from kaggle) (4.62.3)\n",
            "Requirement already satisfied: certifi in /usr/local/lib/python3.7/dist-packages (from kaggle) (2021.10.8)\n",
            "Requirement already satisfied: requests in /usr/local/lib/python3.7/dist-packages (from kaggle) (2.23.0)\n",
            "Requirement already satisfied: python-dateutil in /usr/local/lib/python3.7/dist-packages (from kaggle) (2.8.2)\n",
            "Requirement already satisfied: six>=1.10 in /usr/local/lib/python3.7/dist-packages (from kaggle) (1.15.0)\n",
            "Requirement already satisfied: urllib3 in /usr/local/lib/python3.7/dist-packages (from kaggle) (1.24.3)\n",
            "Requirement already satisfied: text-unidecode>=1.3 in /usr/local/lib/python3.7/dist-packages (from python-slugify->kaggle) (1.3)\n",
            "Requirement already satisfied: idna<3,>=2.5 in /usr/local/lib/python3.7/dist-packages (from requests->kaggle) (2.10)\n",
            "Requirement already satisfied: chardet<4,>=3.0.2 in /usr/local/lib/python3.7/dist-packages (from requests->kaggle) (3.0.4)\n",
            "Downloading movie-lens-small-latest-dataset.zip to /content\n",
            "  0% 0.00/971k [00:00<?, ?B/s]\n",
            "100% 971k/971k [00:00<00:00, 64.4MB/s]\n"
          ]
        }
      ]
    },
    {
      "cell_type": "markdown",
      "metadata": {
        "id": "8YT248rIHLFu"
      },
      "source": [
        "Seletah selesai pengunduhan dataset, kemudian ekstrak/unzip file tersebut. "
      ]
    },
    {
      "cell_type": "code",
      "metadata": {
        "colab": {
          "base_uri": "https://localhost:8080/"
        },
        "id": "riGR0Pm-IoxE",
        "outputId": "0f9026f4-072b-4b7a-a721-a3da1b3092be"
      },
      "source": [
        "#mengekstrak file \n",
        "!unzip /content/movie-lens-small-latest-dataset.zip"
      ],
      "execution_count": null,
      "outputs": [
        {
          "output_type": "stream",
          "name": "stdout",
          "text": [
            "Archive:  /content/movie-lens-small-latest-dataset.zip\n",
            "  inflating: README.txt              \n",
            "  inflating: links.csv               \n",
            "  inflating: movies.csv              \n",
            "  inflating: ratings.csv             \n",
            "  inflating: tags.csv                \n"
          ]
        }
      ]
    },
    {
      "cell_type": "markdown",
      "metadata": {
        "id": "HcarAeAl2SOa"
      },
      "source": [
        "Import library yang akan digunakan."
      ]
    },
    {
      "cell_type": "code",
      "metadata": {
        "id": "mhaz_YiQHwXr"
      },
      "source": [
        "# Import library\n",
        "import pandas as pd\n",
        "import numpy as np \n",
        "from zipfile import ZipFile\n",
        "import tensorflow as tf\n",
        "from tensorflow import keras\n",
        "from tensorflow.keras import layers\n",
        "from pathlib import Path\n",
        "import matplotlib.pyplot as plt"
      ],
      "execution_count": null,
      "outputs": []
    },
    {
      "cell_type": "code",
      "metadata": {
        "id": "Za61Kh1wHwXz"
      },
      "source": [
        "# memuat file ke dalam variable\n",
        "movies = pd.read_csv(\"/content/movies.csv\")\n",
        "links = pd.read_csv(\"/content/links.csv\")\n",
        "ratings = pd.read_csv(\"/content/ratings.csv\")\n",
        "tags = pd.read_csv(\"/content/tags.csv\")"
      ],
      "execution_count": null,
      "outputs": []
    },
    {
      "cell_type": "code",
      "metadata": {
        "colab": {
          "base_uri": "https://localhost:8080/"
        },
        "id": "dX72eDs9HwX3",
        "outputId": "56e9bac5-f224-4498-c83c-a1b139ebfa98"
      },
      "source": [
        "# menampilkan jumlah data pada masing-masing file\n",
        "\n",
        "print('jumlah film : ', len(movies.movieId.unique()))\n",
        "print('jumlah link :', len(links.movieId.unique()))\n",
        "print('jumlah rating : ', len(ratings.userId.unique()))\n",
        "print('jumlah tag : ', len(tags.userId.unique()))"
      ],
      "execution_count": null,
      "outputs": [
        {
          "output_type": "stream",
          "name": "stdout",
          "text": [
            "jumlah film :  9742\n",
            "jumlah link : 9742\n",
            "jumlah rating :  610\n",
            "jumlah tag :  58\n"
          ]
        }
      ]
    },
    {
      "cell_type": "markdown",
      "metadata": {
        "id": "WqMUwOlmHwYC"
      },
      "source": [
        "### **Exploratory Data Analysis**\n",
        "\n",
        "Exploratory Data Analysis (EDA) merupakan proses pengenalan data untuk menganalisis karakteristik, menemukan pola, anomali dan memeriksa asumsi data. \n",
        "\n",
        "**Unvariate EDA** \n",
        "\n",
        "Pada data loading, telah dideklarasikan variabel yang akan dipakai. Variable tersebut diantaranya :\n",
        "\n",
        "- movies : informasi tentang film.\n",
        "- links : informasi yang digunakan untuk menautkan film ke sumber lainnya. \n",
        "- ratings : penilaian pada film.\n",
        "- tags : informasi (metadata) yang dibuat tentang film tersebut. \n",
        "\n",
        "tahap eksplorasi dilakukan untuk memahami variable serta menemukan korelasi antar variable. "
      ]
    },
    {
      "cell_type": "markdown",
      "metadata": {
        "id": "ZV2JaPcAeEUD"
      },
      "source": [
        "**Movies Variable**\n"
      ]
    },
    {
      "cell_type": "code",
      "metadata": {
        "colab": {
          "base_uri": "https://localhost:8080/"
        },
        "id": "t3_OU8y1HwYE",
        "outputId": "3295d889-a104-4cc7-a62f-cef1dfae6e68"
      },
      "source": [
        "#cek informasi data movies\n",
        "movies.info()"
      ],
      "execution_count": null,
      "outputs": [
        {
          "output_type": "stream",
          "name": "stdout",
          "text": [
            "<class 'pandas.core.frame.DataFrame'>\n",
            "RangeIndex: 9742 entries, 0 to 9741\n",
            "Data columns (total 3 columns):\n",
            " #   Column   Non-Null Count  Dtype \n",
            "---  ------   --------------  ----- \n",
            " 0   movieId  9742 non-null   int64 \n",
            " 1   title    9742 non-null   object\n",
            " 2   genres   9742 non-null   object\n",
            "dtypes: int64(1), object(2)\n",
            "memory usage: 228.5+ KB\n"
          ]
        }
      ]
    },
    {
      "cell_type": "code",
      "metadata": {
        "colab": {
          "base_uri": "https://localhost:8080/",
          "height": 111
        },
        "id": "OM_eEP0RHwYH",
        "outputId": "40b1f2f9-b25b-4135-cd96-65654e1df3c4"
      },
      "source": [
        "#menampilkan cuplikan isi data movies\n",
        "movies.head(2)"
      ],
      "execution_count": null,
      "outputs": [
        {
          "output_type": "execute_result",
          "data": {
            "text/html": [
              "<div>\n",
              "<style scoped>\n",
              "    .dataframe tbody tr th:only-of-type {\n",
              "        vertical-align: middle;\n",
              "    }\n",
              "\n",
              "    .dataframe tbody tr th {\n",
              "        vertical-align: top;\n",
              "    }\n",
              "\n",
              "    .dataframe thead th {\n",
              "        text-align: right;\n",
              "    }\n",
              "</style>\n",
              "<table border=\"1\" class=\"dataframe\">\n",
              "  <thead>\n",
              "    <tr style=\"text-align: right;\">\n",
              "      <th></th>\n",
              "      <th>movieId</th>\n",
              "      <th>title</th>\n",
              "      <th>genres</th>\n",
              "    </tr>\n",
              "  </thead>\n",
              "  <tbody>\n",
              "    <tr>\n",
              "      <th>0</th>\n",
              "      <td>1</td>\n",
              "      <td>Toy Story (1995)</td>\n",
              "      <td>Adventure|Animation|Children|Comedy|Fantasy</td>\n",
              "    </tr>\n",
              "    <tr>\n",
              "      <th>1</th>\n",
              "      <td>2</td>\n",
              "      <td>Jumanji (1995)</td>\n",
              "      <td>Adventure|Children|Fantasy</td>\n",
              "    </tr>\n",
              "  </tbody>\n",
              "</table>\n",
              "</div>"
            ],
            "text/plain": [
              "   movieId             title                                       genres\n",
              "0        1  Toy Story (1995)  Adventure|Animation|Children|Comedy|Fantasy\n",
              "1        2    Jumanji (1995)                   Adventure|Children|Fantasy"
            ]
          },
          "metadata": {},
          "execution_count": 7
        }
      ]
    },
    {
      "cell_type": "markdown",
      "metadata": {
        "id": "HE9TrV4xPJ1N"
      },
      "source": [
        "Berdasarkan hasil diatas, terdapat 9742 entri. terdapat dua variable diantaranya, movieId, title, dan genres. \n",
        "- MovieId merupakan ID film, \n",
        "- title merupakan judul film, dan \n",
        "- genres merupakan jenis/gaya film. "
      ]
    },
    {
      "cell_type": "markdown",
      "metadata": {
        "id": "6Vq5r73JQbxh"
      },
      "source": [
        "**Links Variable**"
      ]
    },
    {
      "cell_type": "code",
      "metadata": {
        "colab": {
          "base_uri": "https://localhost:8080/"
        },
        "id": "nXLFZfUmHwYK",
        "outputId": "1d030d92-6fcf-4cab-fa06-02f3b29a9876"
      },
      "source": [
        "#cek informasi data links\n",
        "links.info()"
      ],
      "execution_count": null,
      "outputs": [
        {
          "output_type": "stream",
          "name": "stdout",
          "text": [
            "<class 'pandas.core.frame.DataFrame'>\n",
            "RangeIndex: 9742 entries, 0 to 9741\n",
            "Data columns (total 3 columns):\n",
            " #   Column   Non-Null Count  Dtype  \n",
            "---  ------   --------------  -----  \n",
            " 0   movieId  9742 non-null   int64  \n",
            " 1   imdbId   9742 non-null   int64  \n",
            " 2   tmdbId   9734 non-null   float64\n",
            "dtypes: float64(1), int64(2)\n",
            "memory usage: 228.5 KB\n"
          ]
        }
      ]
    },
    {
      "cell_type": "code",
      "metadata": {
        "colab": {
          "base_uri": "https://localhost:8080/",
          "height": 111
        },
        "id": "HMFedgA7HwYO",
        "outputId": "f9f98ac3-d602-4e8e-e48c-4ad638025caf"
      },
      "source": [
        "#menampilkan cuplikan isi data links\n",
        "links.head(2)"
      ],
      "execution_count": null,
      "outputs": [
        {
          "output_type": "execute_result",
          "data": {
            "text/html": [
              "<div>\n",
              "<style scoped>\n",
              "    .dataframe tbody tr th:only-of-type {\n",
              "        vertical-align: middle;\n",
              "    }\n",
              "\n",
              "    .dataframe tbody tr th {\n",
              "        vertical-align: top;\n",
              "    }\n",
              "\n",
              "    .dataframe thead th {\n",
              "        text-align: right;\n",
              "    }\n",
              "</style>\n",
              "<table border=\"1\" class=\"dataframe\">\n",
              "  <thead>\n",
              "    <tr style=\"text-align: right;\">\n",
              "      <th></th>\n",
              "      <th>movieId</th>\n",
              "      <th>imdbId</th>\n",
              "      <th>tmdbId</th>\n",
              "    </tr>\n",
              "  </thead>\n",
              "  <tbody>\n",
              "    <tr>\n",
              "      <th>0</th>\n",
              "      <td>1</td>\n",
              "      <td>114709</td>\n",
              "      <td>862.0</td>\n",
              "    </tr>\n",
              "    <tr>\n",
              "      <th>1</th>\n",
              "      <td>2</td>\n",
              "      <td>113497</td>\n",
              "      <td>8844.0</td>\n",
              "    </tr>\n",
              "  </tbody>\n",
              "</table>\n",
              "</div>"
            ],
            "text/plain": [
              "   movieId  imdbId  tmdbId\n",
              "0        1  114709   862.0\n",
              "1        2  113497  8844.0"
            ]
          },
          "metadata": {},
          "execution_count": 9
        }
      ]
    },
    {
      "cell_type": "markdown",
      "metadata": {
        "id": "Vx2iWAMUS0SB"
      },
      "source": [
        "Berdasarkan info diatas, terdapat 9742 entri pada imdbId dan 9734 untuk tmdbId. Terdapat beberapa variable diantaranya :  \n",
        "- movieId untuk ID film, \n",
        "- imdbId untuk ID imdb (internet movie database), dan \n",
        "- tmdbId untuk ID tmdb (the movie database). "
      ]
    },
    {
      "cell_type": "markdown",
      "metadata": {
        "id": "nUZ5ULaZWh-D"
      },
      "source": [
        "**Ratings Variable**"
      ]
    },
    {
      "cell_type": "code",
      "metadata": {
        "colab": {
          "base_uri": "https://localhost:8080/"
        },
        "id": "xvyref7yHwYX",
        "outputId": "e3d166d9-f113-4067-f4ea-f63614a687ad"
      },
      "source": [
        "#cek informasi data ratings\n",
        "ratings.info()"
      ],
      "execution_count": null,
      "outputs": [
        {
          "output_type": "stream",
          "name": "stdout",
          "text": [
            "<class 'pandas.core.frame.DataFrame'>\n",
            "RangeIndex: 100836 entries, 0 to 100835\n",
            "Data columns (total 4 columns):\n",
            " #   Column     Non-Null Count   Dtype  \n",
            "---  ------     --------------   -----  \n",
            " 0   userId     100836 non-null  int64  \n",
            " 1   movieId    100836 non-null  int64  \n",
            " 2   rating     100836 non-null  float64\n",
            " 3   timestamp  100836 non-null  int64  \n",
            "dtypes: float64(1), int64(3)\n",
            "memory usage: 3.1 MB\n"
          ]
        }
      ]
    },
    {
      "cell_type": "code",
      "metadata": {
        "colab": {
          "base_uri": "https://localhost:8080/",
          "height": 111
        },
        "id": "bL-BbQn4HwYZ",
        "outputId": "6d33bf03-cb8a-45f8-dca3-7ba0fd0dd27a"
      },
      "source": [
        "# menampilkan isi data ratings\n",
        "ratings.head(2)"
      ],
      "execution_count": null,
      "outputs": [
        {
          "output_type": "execute_result",
          "data": {
            "text/html": [
              "<div>\n",
              "<style scoped>\n",
              "    .dataframe tbody tr th:only-of-type {\n",
              "        vertical-align: middle;\n",
              "    }\n",
              "\n",
              "    .dataframe tbody tr th {\n",
              "        vertical-align: top;\n",
              "    }\n",
              "\n",
              "    .dataframe thead th {\n",
              "        text-align: right;\n",
              "    }\n",
              "</style>\n",
              "<table border=\"1\" class=\"dataframe\">\n",
              "  <thead>\n",
              "    <tr style=\"text-align: right;\">\n",
              "      <th></th>\n",
              "      <th>userId</th>\n",
              "      <th>movieId</th>\n",
              "      <th>rating</th>\n",
              "      <th>timestamp</th>\n",
              "    </tr>\n",
              "  </thead>\n",
              "  <tbody>\n",
              "    <tr>\n",
              "      <th>0</th>\n",
              "      <td>1</td>\n",
              "      <td>1</td>\n",
              "      <td>4.0</td>\n",
              "      <td>964982703</td>\n",
              "    </tr>\n",
              "    <tr>\n",
              "      <th>1</th>\n",
              "      <td>1</td>\n",
              "      <td>3</td>\n",
              "      <td>4.0</td>\n",
              "      <td>964981247</td>\n",
              "    </tr>\n",
              "  </tbody>\n",
              "</table>\n",
              "</div>"
            ],
            "text/plain": [
              "   userId  movieId  rating  timestamp\n",
              "0       1        1     4.0  964982703\n",
              "1       1        3     4.0  964981247"
            ]
          },
          "metadata": {},
          "execution_count": 11
        }
      ]
    },
    {
      "cell_type": "markdown",
      "metadata": {
        "id": "h9vRC_mZWwfE"
      },
      "source": [
        "Berdasarkan info diatas, terdapat 100836 entri data. Terdapat beberapa variable diantaranya \n",
        "- userId untuk ID pengguna, \n",
        "- movieId untuk ID film, \n",
        "- rating untuk penilaian film yang secara umum rentang nilainya dari 0 hingga 5,\n",
        "- Timestamp merupakan waktu default UTC yang terhitung sejak 1 januari 1970"
      ]
    },
    {
      "cell_type": "markdown",
      "metadata": {
        "id": "-nDWCbaNFcNI"
      },
      "source": [
        "Kita dapat check nilai minimun pada data rating dengan fungsi *describe()*"
      ]
    },
    {
      "cell_type": "code",
      "metadata": {
        "colab": {
          "base_uri": "https://localhost:8080/",
          "height": 297
        },
        "id": "Mf_omB9GHwYm",
        "outputId": "1c7d6f1a-af45-498f-8b25-c343c51dd6bc"
      },
      "source": [
        "#cek distribusi pada data rating\n",
        "ratings.describe()"
      ],
      "execution_count": null,
      "outputs": [
        {
          "output_type": "execute_result",
          "data": {
            "text/html": [
              "<div>\n",
              "<style scoped>\n",
              "    .dataframe tbody tr th:only-of-type {\n",
              "        vertical-align: middle;\n",
              "    }\n",
              "\n",
              "    .dataframe tbody tr th {\n",
              "        vertical-align: top;\n",
              "    }\n",
              "\n",
              "    .dataframe thead th {\n",
              "        text-align: right;\n",
              "    }\n",
              "</style>\n",
              "<table border=\"1\" class=\"dataframe\">\n",
              "  <thead>\n",
              "    <tr style=\"text-align: right;\">\n",
              "      <th></th>\n",
              "      <th>userId</th>\n",
              "      <th>movieId</th>\n",
              "      <th>rating</th>\n",
              "      <th>timestamp</th>\n",
              "    </tr>\n",
              "  </thead>\n",
              "  <tbody>\n",
              "    <tr>\n",
              "      <th>count</th>\n",
              "      <td>100836.000000</td>\n",
              "      <td>100836.000000</td>\n",
              "      <td>100836.000000</td>\n",
              "      <td>1.008360e+05</td>\n",
              "    </tr>\n",
              "    <tr>\n",
              "      <th>mean</th>\n",
              "      <td>326.127564</td>\n",
              "      <td>19435.295718</td>\n",
              "      <td>3.501557</td>\n",
              "      <td>1.205946e+09</td>\n",
              "    </tr>\n",
              "    <tr>\n",
              "      <th>std</th>\n",
              "      <td>182.618491</td>\n",
              "      <td>35530.987199</td>\n",
              "      <td>1.042529</td>\n",
              "      <td>2.162610e+08</td>\n",
              "    </tr>\n",
              "    <tr>\n",
              "      <th>min</th>\n",
              "      <td>1.000000</td>\n",
              "      <td>1.000000</td>\n",
              "      <td>0.500000</td>\n",
              "      <td>8.281246e+08</td>\n",
              "    </tr>\n",
              "    <tr>\n",
              "      <th>25%</th>\n",
              "      <td>177.000000</td>\n",
              "      <td>1199.000000</td>\n",
              "      <td>3.000000</td>\n",
              "      <td>1.019124e+09</td>\n",
              "    </tr>\n",
              "    <tr>\n",
              "      <th>50%</th>\n",
              "      <td>325.000000</td>\n",
              "      <td>2991.000000</td>\n",
              "      <td>3.500000</td>\n",
              "      <td>1.186087e+09</td>\n",
              "    </tr>\n",
              "    <tr>\n",
              "      <th>75%</th>\n",
              "      <td>477.000000</td>\n",
              "      <td>8122.000000</td>\n",
              "      <td>4.000000</td>\n",
              "      <td>1.435994e+09</td>\n",
              "    </tr>\n",
              "    <tr>\n",
              "      <th>max</th>\n",
              "      <td>610.000000</td>\n",
              "      <td>193609.000000</td>\n",
              "      <td>5.000000</td>\n",
              "      <td>1.537799e+09</td>\n",
              "    </tr>\n",
              "  </tbody>\n",
              "</table>\n",
              "</div>"
            ],
            "text/plain": [
              "              userId        movieId         rating     timestamp\n",
              "count  100836.000000  100836.000000  100836.000000  1.008360e+05\n",
              "mean      326.127564   19435.295718       3.501557  1.205946e+09\n",
              "std       182.618491   35530.987199       1.042529  2.162610e+08\n",
              "min         1.000000       1.000000       0.500000  8.281246e+08\n",
              "25%       177.000000    1199.000000       3.000000  1.019124e+09\n",
              "50%       325.000000    2991.000000       3.500000  1.186087e+09\n",
              "75%       477.000000    8122.000000       4.000000  1.435994e+09\n",
              "max       610.000000  193609.000000       5.000000  1.537799e+09"
            ]
          },
          "metadata": {},
          "execution_count": 14
        }
      ]
    },
    {
      "cell_type": "markdown",
      "metadata": {
        "id": "i9ve5F3ZtBbD"
      },
      "source": [
        "Hasilnya, rating terendah yaitu 0 dan rating tertinggi yaitu 5. "
      ]
    },
    {
      "cell_type": "markdown",
      "metadata": {
        "id": "S-lJaCZofWiM"
      },
      "source": [
        "**Tags Variable**"
      ]
    },
    {
      "cell_type": "code",
      "metadata": {
        "colab": {
          "base_uri": "https://localhost:8080/"
        },
        "id": "nZgo7CPCHwYb",
        "outputId": "2935eeb4-8c27-44c7-992e-dcded7408615"
      },
      "source": [
        "# cek informasi data tags\n",
        "tags.info()"
      ],
      "execution_count": null,
      "outputs": [
        {
          "output_type": "stream",
          "name": "stdout",
          "text": [
            "<class 'pandas.core.frame.DataFrame'>\n",
            "RangeIndex: 3683 entries, 0 to 3682\n",
            "Data columns (total 4 columns):\n",
            " #   Column     Non-Null Count  Dtype \n",
            "---  ------     --------------  ----- \n",
            " 0   userId     3683 non-null   int64 \n",
            " 1   movieId    3683 non-null   int64 \n",
            " 2   tag        3683 non-null   object\n",
            " 3   timestamp  3683 non-null   int64 \n",
            "dtypes: int64(3), object(1)\n",
            "memory usage: 115.2+ KB\n"
          ]
        }
      ]
    },
    {
      "cell_type": "code",
      "metadata": {
        "colab": {
          "base_uri": "https://localhost:8080/",
          "height": 111
        },
        "id": "iiCAoeZXHwYi",
        "outputId": "29267c72-2f54-4e5f-d817-01adf7474b4f"
      },
      "source": [
        "tags.head(2)"
      ],
      "execution_count": null,
      "outputs": [
        {
          "output_type": "execute_result",
          "data": {
            "text/html": [
              "<div>\n",
              "<style scoped>\n",
              "    .dataframe tbody tr th:only-of-type {\n",
              "        vertical-align: middle;\n",
              "    }\n",
              "\n",
              "    .dataframe tbody tr th {\n",
              "        vertical-align: top;\n",
              "    }\n",
              "\n",
              "    .dataframe thead th {\n",
              "        text-align: right;\n",
              "    }\n",
              "</style>\n",
              "<table border=\"1\" class=\"dataframe\">\n",
              "  <thead>\n",
              "    <tr style=\"text-align: right;\">\n",
              "      <th></th>\n",
              "      <th>userId</th>\n",
              "      <th>movieId</th>\n",
              "      <th>tag</th>\n",
              "      <th>timestamp</th>\n",
              "    </tr>\n",
              "  </thead>\n",
              "  <tbody>\n",
              "    <tr>\n",
              "      <th>0</th>\n",
              "      <td>2</td>\n",
              "      <td>60756</td>\n",
              "      <td>funny</td>\n",
              "      <td>1445714994</td>\n",
              "    </tr>\n",
              "    <tr>\n",
              "      <th>1</th>\n",
              "      <td>2</td>\n",
              "      <td>60756</td>\n",
              "      <td>Highly quotable</td>\n",
              "      <td>1445714996</td>\n",
              "    </tr>\n",
              "  </tbody>\n",
              "</table>\n",
              "</div>"
            ],
            "text/plain": [
              "   userId  movieId              tag   timestamp\n",
              "0       2    60756            funny  1445714994\n",
              "1       2    60756  Highly quotable  1445714996"
            ]
          },
          "metadata": {},
          "execution_count": 13
        }
      ]
    },
    {
      "cell_type": "markdown",
      "metadata": {
        "id": "M9NMIXiytOiV"
      },
      "source": [
        "Berdasarkan informasi diatas, terdapat 3683 entri data. Terdapat beberapa variabel yang digunakan, diantaranya : \n",
        "- userId untuk ID user\n",
        "- movieId untuk Id film\n",
        "- tag untuk kata kunci yang disisipkan untuk pencarian film\n",
        "- timestamp untuk waktu default UTC yang terhitung sejak 1 januari 1970"
      ]
    },
    {
      "cell_type": "code",
      "metadata": {
        "id": "RtpNFAQ2HwYo"
      },
      "source": [
        "# cek jumlah user, jumlah movie dan jumlah rating yang diberikan\n",
        "# print('jumlah UserId : ', len(ratings.userId.unique()))\n",
        "# print('jumlah movieId : ', len(ratings.movieId.unique()))\n",
        "# print('jumlah data rating : ',len(ratings))"
      ],
      "execution_count": null,
      "outputs": []
    },
    {
      "cell_type": "markdown",
      "metadata": {
        "id": "M6edvUwvHwY0"
      },
      "source": [
        "## **Data Preparation**\n",
        "\n",
        "Data preparation bertujuan untuk menyiapkan data sebelum masuk ke proses modeling. Selain itu, data preparation juga berguna untuk meningkatkan akurasi saat training data. Pada dataset ini, yang akan kita lakukan yaitu menggabungkan dataset dengan fungsi *merge()* dan key movieId, menghapus missing value serta menurut dataset berdasarkan movieId serta menghapus hasil duplikat. "
      ]
    },
    {
      "cell_type": "code",
      "metadata": {
        "colab": {
          "base_uri": "https://localhost:8080/",
          "height": 111
        },
        "id": "V2LVIi4rHwYu",
        "outputId": "54f9840b-f536-4177-ddb7-27385c4a3e8c"
      },
      "source": [
        "#menggabungkan dataset dengan key movieID\n",
        "movies_all = pd.merge(ratings, movies, on='movieId')\n",
        "movies_all.head(2)"
      ],
      "execution_count": null,
      "outputs": [
        {
          "output_type": "execute_result",
          "data": {
            "text/html": [
              "<div>\n",
              "<style scoped>\n",
              "    .dataframe tbody tr th:only-of-type {\n",
              "        vertical-align: middle;\n",
              "    }\n",
              "\n",
              "    .dataframe tbody tr th {\n",
              "        vertical-align: top;\n",
              "    }\n",
              "\n",
              "    .dataframe thead th {\n",
              "        text-align: right;\n",
              "    }\n",
              "</style>\n",
              "<table border=\"1\" class=\"dataframe\">\n",
              "  <thead>\n",
              "    <tr style=\"text-align: right;\">\n",
              "      <th></th>\n",
              "      <th>userId</th>\n",
              "      <th>movieId</th>\n",
              "      <th>rating</th>\n",
              "      <th>timestamp</th>\n",
              "      <th>title</th>\n",
              "      <th>genres</th>\n",
              "    </tr>\n",
              "  </thead>\n",
              "  <tbody>\n",
              "    <tr>\n",
              "      <th>0</th>\n",
              "      <td>1</td>\n",
              "      <td>1</td>\n",
              "      <td>4.0</td>\n",
              "      <td>964982703</td>\n",
              "      <td>Toy Story (1995)</td>\n",
              "      <td>Adventure|Animation|Children|Comedy|Fantasy</td>\n",
              "    </tr>\n",
              "    <tr>\n",
              "      <th>1</th>\n",
              "      <td>5</td>\n",
              "      <td>1</td>\n",
              "      <td>4.0</td>\n",
              "      <td>847434962</td>\n",
              "      <td>Toy Story (1995)</td>\n",
              "      <td>Adventure|Animation|Children|Comedy|Fantasy</td>\n",
              "    </tr>\n",
              "  </tbody>\n",
              "</table>\n",
              "</div>"
            ],
            "text/plain": [
              "   userId  ...                                       genres\n",
              "0       1  ...  Adventure|Animation|Children|Comedy|Fantasy\n",
              "1       5  ...  Adventure|Animation|Children|Comedy|Fantasy\n",
              "\n",
              "[2 rows x 6 columns]"
            ]
          },
          "metadata": {},
          "execution_count": 16
        }
      ]
    },
    {
      "cell_type": "code",
      "metadata": {
        "colab": {
          "base_uri": "https://localhost:8080/"
        },
        "id": "f68CjFxmHwY2",
        "outputId": "9d52f001-076b-49c5-86a7-5cd880343737"
      },
      "source": [
        "#cek missing value\n",
        "movies_all.isnull().sum()"
      ],
      "execution_count": null,
      "outputs": [
        {
          "output_type": "execute_result",
          "data": {
            "text/plain": [
              "userId       0\n",
              "movieId      0\n",
              "rating       0\n",
              "timestamp    0\n",
              "title        0\n",
              "genres       0\n",
              "dtype: int64"
            ]
          },
          "metadata": {},
          "execution_count": 17
        }
      ]
    },
    {
      "cell_type": "code",
      "metadata": {
        "colab": {
          "base_uri": "https://localhost:8080/",
          "height": 419
        },
        "id": "N1q8F9kmHwY3",
        "outputId": "1f037e41-2119-46a0-a0da-c805030c348e"
      },
      "source": [
        "#membuat variabel sorting \n",
        "prep = movies_all\n",
        "prep.sort_values('movieId')"
      ],
      "execution_count": null,
      "outputs": [
        {
          "output_type": "execute_result",
          "data": {
            "text/html": [
              "<div>\n",
              "<style scoped>\n",
              "    .dataframe tbody tr th:only-of-type {\n",
              "        vertical-align: middle;\n",
              "    }\n",
              "\n",
              "    .dataframe tbody tr th {\n",
              "        vertical-align: top;\n",
              "    }\n",
              "\n",
              "    .dataframe thead th {\n",
              "        text-align: right;\n",
              "    }\n",
              "</style>\n",
              "<table border=\"1\" class=\"dataframe\">\n",
              "  <thead>\n",
              "    <tr style=\"text-align: right;\">\n",
              "      <th></th>\n",
              "      <th>userId</th>\n",
              "      <th>movieId</th>\n",
              "      <th>rating</th>\n",
              "      <th>timestamp</th>\n",
              "      <th>title</th>\n",
              "      <th>genres</th>\n",
              "    </tr>\n",
              "  </thead>\n",
              "  <tbody>\n",
              "    <tr>\n",
              "      <th>0</th>\n",
              "      <td>1</td>\n",
              "      <td>1</td>\n",
              "      <td>4.0</td>\n",
              "      <td>964982703</td>\n",
              "      <td>Toy Story (1995)</td>\n",
              "      <td>Adventure|Animation|Children|Comedy|Fantasy</td>\n",
              "    </tr>\n",
              "    <tr>\n",
              "      <th>137</th>\n",
              "      <td>382</td>\n",
              "      <td>1</td>\n",
              "      <td>4.5</td>\n",
              "      <td>1515162628</td>\n",
              "      <td>Toy Story (1995)</td>\n",
              "      <td>Adventure|Animation|Children|Comedy|Fantasy</td>\n",
              "    </tr>\n",
              "    <tr>\n",
              "      <th>138</th>\n",
              "      <td>385</td>\n",
              "      <td>1</td>\n",
              "      <td>4.0</td>\n",
              "      <td>834691642</td>\n",
              "      <td>Toy Story (1995)</td>\n",
              "      <td>Adventure|Animation|Children|Comedy|Fantasy</td>\n",
              "    </tr>\n",
              "    <tr>\n",
              "      <th>139</th>\n",
              "      <td>389</td>\n",
              "      <td>1</td>\n",
              "      <td>5.0</td>\n",
              "      <td>857934174</td>\n",
              "      <td>Toy Story (1995)</td>\n",
              "      <td>Adventure|Animation|Children|Comedy|Fantasy</td>\n",
              "    </tr>\n",
              "    <tr>\n",
              "      <th>140</th>\n",
              "      <td>391</td>\n",
              "      <td>1</td>\n",
              "      <td>3.0</td>\n",
              "      <td>1032388077</td>\n",
              "      <td>Toy Story (1995)</td>\n",
              "      <td>Adventure|Animation|Children|Comedy|Fantasy</td>\n",
              "    </tr>\n",
              "    <tr>\n",
              "      <th>...</th>\n",
              "      <td>...</td>\n",
              "      <td>...</td>\n",
              "      <td>...</td>\n",
              "      <td>...</td>\n",
              "      <td>...</td>\n",
              "      <td>...</td>\n",
              "    </tr>\n",
              "    <tr>\n",
              "      <th>92965</th>\n",
              "      <td>184</td>\n",
              "      <td>193581</td>\n",
              "      <td>4.0</td>\n",
              "      <td>1537109082</td>\n",
              "      <td>Black Butler: Book of the Atlantic (2017)</td>\n",
              "      <td>Action|Animation|Comedy|Fantasy</td>\n",
              "    </tr>\n",
              "    <tr>\n",
              "      <th>92966</th>\n",
              "      <td>184</td>\n",
              "      <td>193583</td>\n",
              "      <td>3.5</td>\n",
              "      <td>1537109545</td>\n",
              "      <td>No Game No Life: Zero (2017)</td>\n",
              "      <td>Animation|Comedy|Fantasy</td>\n",
              "    </tr>\n",
              "    <tr>\n",
              "      <th>92967</th>\n",
              "      <td>184</td>\n",
              "      <td>193585</td>\n",
              "      <td>3.5</td>\n",
              "      <td>1537109805</td>\n",
              "      <td>Flint (2017)</td>\n",
              "      <td>Drama</td>\n",
              "    </tr>\n",
              "    <tr>\n",
              "      <th>92968</th>\n",
              "      <td>184</td>\n",
              "      <td>193587</td>\n",
              "      <td>3.5</td>\n",
              "      <td>1537110021</td>\n",
              "      <td>Bungo Stray Dogs: Dead Apple (2018)</td>\n",
              "      <td>Action|Animation</td>\n",
              "    </tr>\n",
              "    <tr>\n",
              "      <th>97083</th>\n",
              "      <td>331</td>\n",
              "      <td>193609</td>\n",
              "      <td>4.0</td>\n",
              "      <td>1537157606</td>\n",
              "      <td>Andrew Dice Clay: Dice Rules (1991)</td>\n",
              "      <td>Comedy</td>\n",
              "    </tr>\n",
              "  </tbody>\n",
              "</table>\n",
              "<p>100836 rows × 6 columns</p>\n",
              "</div>"
            ],
            "text/plain": [
              "       userId  ...                                       genres\n",
              "0           1  ...  Adventure|Animation|Children|Comedy|Fantasy\n",
              "137       382  ...  Adventure|Animation|Children|Comedy|Fantasy\n",
              "138       385  ...  Adventure|Animation|Children|Comedy|Fantasy\n",
              "139       389  ...  Adventure|Animation|Children|Comedy|Fantasy\n",
              "140       391  ...  Adventure|Animation|Children|Comedy|Fantasy\n",
              "...       ...  ...                                          ...\n",
              "92965     184  ...              Action|Animation|Comedy|Fantasy\n",
              "92966     184  ...                     Animation|Comedy|Fantasy\n",
              "92967     184  ...                                        Drama\n",
              "92968     184  ...                             Action|Animation\n",
              "97083     331  ...                                       Comedy\n",
              "\n",
              "[100836 rows x 6 columns]"
            ]
          },
          "metadata": {},
          "execution_count": 18
        }
      ]
    },
    {
      "cell_type": "code",
      "metadata": {
        "colab": {
          "base_uri": "https://localhost:8080/",
          "height": 419
        },
        "id": "wZ31WLhHHwY5",
        "outputId": "83289472-196b-4429-dd62-ff66512ce358"
      },
      "source": [
        "#hapus data duplikat\n",
        "prep = prep.drop_duplicates('movieId')\n",
        "prep"
      ],
      "execution_count": null,
      "outputs": [
        {
          "output_type": "execute_result",
          "data": {
            "text/html": [
              "<div>\n",
              "<style scoped>\n",
              "    .dataframe tbody tr th:only-of-type {\n",
              "        vertical-align: middle;\n",
              "    }\n",
              "\n",
              "    .dataframe tbody tr th {\n",
              "        vertical-align: top;\n",
              "    }\n",
              "\n",
              "    .dataframe thead th {\n",
              "        text-align: right;\n",
              "    }\n",
              "</style>\n",
              "<table border=\"1\" class=\"dataframe\">\n",
              "  <thead>\n",
              "    <tr style=\"text-align: right;\">\n",
              "      <th></th>\n",
              "      <th>userId</th>\n",
              "      <th>movieId</th>\n",
              "      <th>rating</th>\n",
              "      <th>timestamp</th>\n",
              "      <th>title</th>\n",
              "      <th>genres</th>\n",
              "    </tr>\n",
              "  </thead>\n",
              "  <tbody>\n",
              "    <tr>\n",
              "      <th>0</th>\n",
              "      <td>1</td>\n",
              "      <td>1</td>\n",
              "      <td>4.0</td>\n",
              "      <td>964982703</td>\n",
              "      <td>Toy Story (1995)</td>\n",
              "      <td>Adventure|Animation|Children|Comedy|Fantasy</td>\n",
              "    </tr>\n",
              "    <tr>\n",
              "      <th>215</th>\n",
              "      <td>1</td>\n",
              "      <td>3</td>\n",
              "      <td>4.0</td>\n",
              "      <td>964981247</td>\n",
              "      <td>Grumpier Old Men (1995)</td>\n",
              "      <td>Comedy|Romance</td>\n",
              "    </tr>\n",
              "    <tr>\n",
              "      <th>267</th>\n",
              "      <td>1</td>\n",
              "      <td>6</td>\n",
              "      <td>4.0</td>\n",
              "      <td>964982224</td>\n",
              "      <td>Heat (1995)</td>\n",
              "      <td>Action|Crime|Thriller</td>\n",
              "    </tr>\n",
              "    <tr>\n",
              "      <th>369</th>\n",
              "      <td>1</td>\n",
              "      <td>47</td>\n",
              "      <td>5.0</td>\n",
              "      <td>964983815</td>\n",
              "      <td>Seven (a.k.a. Se7en) (1995)</td>\n",
              "      <td>Mystery|Thriller</td>\n",
              "    </tr>\n",
              "    <tr>\n",
              "      <th>572</th>\n",
              "      <td>1</td>\n",
              "      <td>50</td>\n",
              "      <td>5.0</td>\n",
              "      <td>964982931</td>\n",
              "      <td>Usual Suspects, The (1995)</td>\n",
              "      <td>Crime|Mystery|Thriller</td>\n",
              "    </tr>\n",
              "    <tr>\n",
              "      <th>...</th>\n",
              "      <td>...</td>\n",
              "      <td>...</td>\n",
              "      <td>...</td>\n",
              "      <td>...</td>\n",
              "      <td>...</td>\n",
              "      <td>...</td>\n",
              "    </tr>\n",
              "    <tr>\n",
              "      <th>100831</th>\n",
              "      <td>610</td>\n",
              "      <td>160341</td>\n",
              "      <td>2.5</td>\n",
              "      <td>1479545749</td>\n",
              "      <td>Bloodmoon (1997)</td>\n",
              "      <td>Action|Thriller</td>\n",
              "    </tr>\n",
              "    <tr>\n",
              "      <th>100832</th>\n",
              "      <td>610</td>\n",
              "      <td>160527</td>\n",
              "      <td>4.5</td>\n",
              "      <td>1479544998</td>\n",
              "      <td>Sympathy for the Underdog (1971)</td>\n",
              "      <td>Action|Crime|Drama</td>\n",
              "    </tr>\n",
              "    <tr>\n",
              "      <th>100833</th>\n",
              "      <td>610</td>\n",
              "      <td>160836</td>\n",
              "      <td>3.0</td>\n",
              "      <td>1493844794</td>\n",
              "      <td>Hazard (2005)</td>\n",
              "      <td>Action|Drama|Thriller</td>\n",
              "    </tr>\n",
              "    <tr>\n",
              "      <th>100834</th>\n",
              "      <td>610</td>\n",
              "      <td>163937</td>\n",
              "      <td>3.5</td>\n",
              "      <td>1493848789</td>\n",
              "      <td>Blair Witch (2016)</td>\n",
              "      <td>Horror|Thriller</td>\n",
              "    </tr>\n",
              "    <tr>\n",
              "      <th>100835</th>\n",
              "      <td>610</td>\n",
              "      <td>163981</td>\n",
              "      <td>3.5</td>\n",
              "      <td>1493850155</td>\n",
              "      <td>31 (2016)</td>\n",
              "      <td>Horror</td>\n",
              "    </tr>\n",
              "  </tbody>\n",
              "</table>\n",
              "<p>9724 rows × 6 columns</p>\n",
              "</div>"
            ],
            "text/plain": [
              "        userId  ...                                       genres\n",
              "0            1  ...  Adventure|Animation|Children|Comedy|Fantasy\n",
              "215          1  ...                               Comedy|Romance\n",
              "267          1  ...                        Action|Crime|Thriller\n",
              "369          1  ...                             Mystery|Thriller\n",
              "572          1  ...                       Crime|Mystery|Thriller\n",
              "...        ...  ...                                          ...\n",
              "100831     610  ...                              Action|Thriller\n",
              "100832     610  ...                           Action|Crime|Drama\n",
              "100833     610  ...                        Action|Drama|Thriller\n",
              "100834     610  ...                              Horror|Thriller\n",
              "100835     610  ...                                       Horror\n",
              "\n",
              "[9724 rows x 6 columns]"
            ]
          },
          "metadata": {},
          "execution_count": 19
        }
      ]
    },
    {
      "cell_type": "markdown",
      "metadata": {
        "id": "SAx1rQBdwT6r"
      },
      "source": [
        "Selanjutnya, kita perlu melakukan konversi data series menjadi list. Dalam hal ini, kita menggunakan fungsi tolist() dari library numpy. Lalu cek jumlah masing-masing variable. "
      ]
    },
    {
      "cell_type": "code",
      "metadata": {
        "colab": {
          "base_uri": "https://localhost:8080/"
        },
        "id": "OOMO6EeCHwY7",
        "outputId": "b14ed8d1-4a96-42a5-cbee-f72905412248"
      },
      "source": [
        "#konversi data series 'movieId', 'title', 'genres' ke dalam bentuk list lalu ceh jumlah datanya\n",
        "movies_id = prep['movieId'].tolist()\n",
        "movies_title = prep['title'].tolist()\n",
        "movies_genre = prep['genres'].tolist()\n",
        "\n",
        "print(len(movies_id))\n",
        "print(len(movies_title))\n",
        "print(len(movies_genre))"
      ],
      "execution_count": null,
      "outputs": [
        {
          "output_type": "stream",
          "name": "stdout",
          "text": [
            "9724\n",
            "9724\n",
            "9724\n"
          ]
        }
      ]
    },
    {
      "cell_type": "markdown",
      "metadata": {
        "id": "jx6dLHBdzF79"
      },
      "source": [
        "Tahap berikutnya, kita akan membuat dictionary untuk menentukan pasangan key-value pada data movies_id, movies_title, dan movies_genre yang telah disiapkan sebelumnya."
      ]
    },
    {
      "cell_type": "code",
      "metadata": {
        "colab": {
          "base_uri": "https://localhost:8080/",
          "height": 419
        },
        "id": "ujb0YhoSHwY8",
        "outputId": "935b6fbb-a880-4f13-a805-327fb5399a90"
      },
      "source": [
        "# membuat kamus data \n",
        "movies_final = pd.DataFrame({\n",
        "    'id' : movies_id,\n",
        "    'title' : movies_title,\n",
        "    'genre' : movies_genre\n",
        "})\n",
        "\n",
        "movies_final"
      ],
      "execution_count": null,
      "outputs": [
        {
          "output_type": "execute_result",
          "data": {
            "text/html": [
              "<div>\n",
              "<style scoped>\n",
              "    .dataframe tbody tr th:only-of-type {\n",
              "        vertical-align: middle;\n",
              "    }\n",
              "\n",
              "    .dataframe tbody tr th {\n",
              "        vertical-align: top;\n",
              "    }\n",
              "\n",
              "    .dataframe thead th {\n",
              "        text-align: right;\n",
              "    }\n",
              "</style>\n",
              "<table border=\"1\" class=\"dataframe\">\n",
              "  <thead>\n",
              "    <tr style=\"text-align: right;\">\n",
              "      <th></th>\n",
              "      <th>id</th>\n",
              "      <th>title</th>\n",
              "      <th>genre</th>\n",
              "    </tr>\n",
              "  </thead>\n",
              "  <tbody>\n",
              "    <tr>\n",
              "      <th>0</th>\n",
              "      <td>1</td>\n",
              "      <td>Toy Story (1995)</td>\n",
              "      <td>Adventure|Animation|Children|Comedy|Fantasy</td>\n",
              "    </tr>\n",
              "    <tr>\n",
              "      <th>1</th>\n",
              "      <td>3</td>\n",
              "      <td>Grumpier Old Men (1995)</td>\n",
              "      <td>Comedy|Romance</td>\n",
              "    </tr>\n",
              "    <tr>\n",
              "      <th>2</th>\n",
              "      <td>6</td>\n",
              "      <td>Heat (1995)</td>\n",
              "      <td>Action|Crime|Thriller</td>\n",
              "    </tr>\n",
              "    <tr>\n",
              "      <th>3</th>\n",
              "      <td>47</td>\n",
              "      <td>Seven (a.k.a. Se7en) (1995)</td>\n",
              "      <td>Mystery|Thriller</td>\n",
              "    </tr>\n",
              "    <tr>\n",
              "      <th>4</th>\n",
              "      <td>50</td>\n",
              "      <td>Usual Suspects, The (1995)</td>\n",
              "      <td>Crime|Mystery|Thriller</td>\n",
              "    </tr>\n",
              "    <tr>\n",
              "      <th>...</th>\n",
              "      <td>...</td>\n",
              "      <td>...</td>\n",
              "      <td>...</td>\n",
              "    </tr>\n",
              "    <tr>\n",
              "      <th>9719</th>\n",
              "      <td>160341</td>\n",
              "      <td>Bloodmoon (1997)</td>\n",
              "      <td>Action|Thriller</td>\n",
              "    </tr>\n",
              "    <tr>\n",
              "      <th>9720</th>\n",
              "      <td>160527</td>\n",
              "      <td>Sympathy for the Underdog (1971)</td>\n",
              "      <td>Action|Crime|Drama</td>\n",
              "    </tr>\n",
              "    <tr>\n",
              "      <th>9721</th>\n",
              "      <td>160836</td>\n",
              "      <td>Hazard (2005)</td>\n",
              "      <td>Action|Drama|Thriller</td>\n",
              "    </tr>\n",
              "    <tr>\n",
              "      <th>9722</th>\n",
              "      <td>163937</td>\n",
              "      <td>Blair Witch (2016)</td>\n",
              "      <td>Horror|Thriller</td>\n",
              "    </tr>\n",
              "    <tr>\n",
              "      <th>9723</th>\n",
              "      <td>163981</td>\n",
              "      <td>31 (2016)</td>\n",
              "      <td>Horror</td>\n",
              "    </tr>\n",
              "  </tbody>\n",
              "</table>\n",
              "<p>9724 rows × 3 columns</p>\n",
              "</div>"
            ],
            "text/plain": [
              "          id  ...                                        genre\n",
              "0          1  ...  Adventure|Animation|Children|Comedy|Fantasy\n",
              "1          3  ...                               Comedy|Romance\n",
              "2          6  ...                        Action|Crime|Thriller\n",
              "3         47  ...                             Mystery|Thriller\n",
              "4         50  ...                       Crime|Mystery|Thriller\n",
              "...      ...  ...                                          ...\n",
              "9719  160341  ...                              Action|Thriller\n",
              "9720  160527  ...                           Action|Crime|Drama\n",
              "9721  160836  ...                        Action|Drama|Thriller\n",
              "9722  163937  ...                              Horror|Thriller\n",
              "9723  163981  ...                                       Horror\n",
              "\n",
              "[9724 rows x 3 columns]"
            ]
          },
          "metadata": {},
          "execution_count": 21
        }
      ]
    },
    {
      "cell_type": "markdown",
      "metadata": {
        "id": "DNXmLfkqHwY-"
      },
      "source": [
        "## **Model Development dengan Collaborative Filtering**\n",
        "\n",
        "Collaborative filtering merupakan salah satu metode untuk membuat sistem rekomendasi. Teknik ini membutuhkan data rating dari user.\n",
        "\n",
        "Goal proyek kali ini adalah menghasilkan rekomendasi sejumlah film yang sesuai dengan preferensi pengguna berdasarkan rating yang telah diberikan sebelumnya. Dari data rating pengguna, akan mengidentifikasi film-film yang mirip dan belum pernah ditonton oleh pengguna untuk direkomendasikan.\n"
      ]
    },
    {
      "cell_type": "markdown",
      "metadata": {
        "id": "tvx7CKcF30IX"
      },
      "source": [
        "### Data Understanding\n",
        "\n",
        "Pada penerapan model ini, file yang digunakan yaitu file **rating.csv**. Agar tidak tertukar dengan fitur rating yang digunakan sebelumnya, kita namakan file menjadi variabel *df*"
      ]
    },
    {
      "cell_type": "code",
      "metadata": {
        "colab": {
          "base_uri": "https://localhost:8080/",
          "height": 419
        },
        "id": "mNfRTuVGHwY_",
        "outputId": "c02c9d21-1e49-464e-d9e3-e628a222b685"
      },
      "source": [
        "df = ratings\n",
        "df"
      ],
      "execution_count": null,
      "outputs": [
        {
          "output_type": "execute_result",
          "data": {
            "text/html": [
              "<div>\n",
              "<style scoped>\n",
              "    .dataframe tbody tr th:only-of-type {\n",
              "        vertical-align: middle;\n",
              "    }\n",
              "\n",
              "    .dataframe tbody tr th {\n",
              "        vertical-align: top;\n",
              "    }\n",
              "\n",
              "    .dataframe thead th {\n",
              "        text-align: right;\n",
              "    }\n",
              "</style>\n",
              "<table border=\"1\" class=\"dataframe\">\n",
              "  <thead>\n",
              "    <tr style=\"text-align: right;\">\n",
              "      <th></th>\n",
              "      <th>userId</th>\n",
              "      <th>movieId</th>\n",
              "      <th>rating</th>\n",
              "      <th>timestamp</th>\n",
              "    </tr>\n",
              "  </thead>\n",
              "  <tbody>\n",
              "    <tr>\n",
              "      <th>0</th>\n",
              "      <td>1</td>\n",
              "      <td>1</td>\n",
              "      <td>4.0</td>\n",
              "      <td>964982703</td>\n",
              "    </tr>\n",
              "    <tr>\n",
              "      <th>1</th>\n",
              "      <td>1</td>\n",
              "      <td>3</td>\n",
              "      <td>4.0</td>\n",
              "      <td>964981247</td>\n",
              "    </tr>\n",
              "    <tr>\n",
              "      <th>2</th>\n",
              "      <td>1</td>\n",
              "      <td>6</td>\n",
              "      <td>4.0</td>\n",
              "      <td>964982224</td>\n",
              "    </tr>\n",
              "    <tr>\n",
              "      <th>3</th>\n",
              "      <td>1</td>\n",
              "      <td>47</td>\n",
              "      <td>5.0</td>\n",
              "      <td>964983815</td>\n",
              "    </tr>\n",
              "    <tr>\n",
              "      <th>4</th>\n",
              "      <td>1</td>\n",
              "      <td>50</td>\n",
              "      <td>5.0</td>\n",
              "      <td>964982931</td>\n",
              "    </tr>\n",
              "    <tr>\n",
              "      <th>...</th>\n",
              "      <td>...</td>\n",
              "      <td>...</td>\n",
              "      <td>...</td>\n",
              "      <td>...</td>\n",
              "    </tr>\n",
              "    <tr>\n",
              "      <th>100831</th>\n",
              "      <td>610</td>\n",
              "      <td>166534</td>\n",
              "      <td>4.0</td>\n",
              "      <td>1493848402</td>\n",
              "    </tr>\n",
              "    <tr>\n",
              "      <th>100832</th>\n",
              "      <td>610</td>\n",
              "      <td>168248</td>\n",
              "      <td>5.0</td>\n",
              "      <td>1493850091</td>\n",
              "    </tr>\n",
              "    <tr>\n",
              "      <th>100833</th>\n",
              "      <td>610</td>\n",
              "      <td>168250</td>\n",
              "      <td>5.0</td>\n",
              "      <td>1494273047</td>\n",
              "    </tr>\n",
              "    <tr>\n",
              "      <th>100834</th>\n",
              "      <td>610</td>\n",
              "      <td>168252</td>\n",
              "      <td>5.0</td>\n",
              "      <td>1493846352</td>\n",
              "    </tr>\n",
              "    <tr>\n",
              "      <th>100835</th>\n",
              "      <td>610</td>\n",
              "      <td>170875</td>\n",
              "      <td>3.0</td>\n",
              "      <td>1493846415</td>\n",
              "    </tr>\n",
              "  </tbody>\n",
              "</table>\n",
              "<p>100836 rows × 4 columns</p>\n",
              "</div>"
            ],
            "text/plain": [
              "        userId  movieId  rating   timestamp\n",
              "0            1        1     4.0   964982703\n",
              "1            1        3     4.0   964981247\n",
              "2            1        6     4.0   964982224\n",
              "3            1       47     5.0   964983815\n",
              "4            1       50     5.0   964982931\n",
              "...        ...      ...     ...         ...\n",
              "100831     610   166534     4.0  1493848402\n",
              "100832     610   168248     5.0  1493850091\n",
              "100833     610   168250     5.0  1494273047\n",
              "100834     610   168252     5.0  1493846352\n",
              "100835     610   170875     3.0  1493846415\n",
              "\n",
              "[100836 rows x 4 columns]"
            ]
          },
          "metadata": {},
          "execution_count": 22
        }
      ]
    },
    {
      "cell_type": "markdown",
      "metadata": {
        "id": "i4CNaf-aHwY_"
      },
      "source": [
        "### Data Preparation\n",
        "\n",
        "\n",
        "Pada tahap ini, perlu dilakukan persiapan data untuk menyandikan (encode) fitur ‘UserId’ dan ‘MovieId’ ke dalam indeks integer. "
      ]
    },
    {
      "cell_type": "code",
      "metadata": {
        "id": "4-t7PKbaHwZA"
      },
      "source": [
        "#mengubah userID menjadi list unique\n",
        "userId_enc = df['userId'].unique().tolist()\n",
        "\n",
        "#encoding userId\n",
        "userId_enc_final = {x: i for i, x in enumerate(userId_enc)}\n",
        "\n",
        "#encoding hasil encoding sebelumnya ke user\n",
        "userId_enc_to_user = {i: x for i, x in enumerate(userId_enc)}"
      ],
      "execution_count": null,
      "outputs": []
    },
    {
      "cell_type": "code",
      "metadata": {
        "id": "ygdjbiVkKO_S"
      },
      "source": [
        "#mengubah movieId menjadi list unique\n",
        "movieId_enc = df['movieId'].unique().tolist()\n",
        "\n",
        "#encoding movieId\n",
        "movieId_enc_final = {x: i for i, x in enumerate(movieId_enc)}\n",
        "\n",
        "#encoding angka ke movieId\n",
        "movieId_enc_to_movie = {i: x for i, x in enumerate(movieId_enc)}"
      ],
      "execution_count": null,
      "outputs": []
    },
    {
      "cell_type": "code",
      "metadata": {
        "id": "yAUVkE82EEED"
      },
      "source": [
        "#petakan UserID dan movieID yang telah di-encoding sebelumnya\n",
        "df['user'] = df['userId'].map(userId_enc_final)\n",
        "df['movie'] = df['movieId'].map(movieId_enc_final)"
      ],
      "execution_count": null,
      "outputs": []
    },
    {
      "cell_type": "markdown",
      "metadata": {
        "id": "YCcuvUjs4_58"
      },
      "source": [
        "Terakhir, cek beberapa hal dalam data seperti jumlah user, jumlah movie, dan mengubah nilai rating menjadi float."
      ]
    },
    {
      "cell_type": "code",
      "metadata": {
        "colab": {
          "base_uri": "https://localhost:8080/"
        },
        "id": "vnUhwkoWFq5m",
        "outputId": "964909f3-a65f-4348-8136-afccb555d39e"
      },
      "source": [
        "#jumlah user\n",
        "num_user = len(userId_enc_final)\n",
        "print(num_user)\n",
        "\n",
        "#jumlah movie\n",
        "num_movie = len(movieId_enc_to_movie)\n",
        "print(num_movie)\n",
        "\n",
        "#ubah rating menjadi float\n",
        "df['rating'] = df['rating'].values.astype(np.float32)\n",
        "\n",
        "#nilai minimun rating\n",
        "min_rating = min(df['rating'])\n",
        "print(min_rating)\n",
        "\n",
        "#nilai maksimal rating\n",
        "max_rating = max(df['rating'])\n",
        "print(max_rating)"
      ],
      "execution_count": null,
      "outputs": [
        {
          "output_type": "stream",
          "name": "stdout",
          "text": [
            "610\n",
            "9724\n",
            "0.5\n",
            "5.0\n"
          ]
        }
      ]
    },
    {
      "cell_type": "markdown",
      "metadata": {
        "id": "RvHdF-nOI83z"
      },
      "source": [
        "Selanjutnya membagi Data Training dan data Valid. Sebelum membagi data menjadi data training dan data validasi, data diacak terlebih dahulu agar distribusi menjadi random."
      ]
    },
    {
      "cell_type": "code",
      "metadata": {
        "colab": {
          "base_uri": "https://localhost:8080/",
          "height": 419
        },
        "id": "h4M7yfgdI_Ja",
        "outputId": "6ff8b219-694a-416a-9302-a44d68967748"
      },
      "source": [
        "#mengacak dataset\n",
        "df = df.sample(frac=1, random_state=42)\n",
        "df"
      ],
      "execution_count": null,
      "outputs": [
        {
          "output_type": "execute_result",
          "data": {
            "text/html": [
              "<div>\n",
              "<style scoped>\n",
              "    .dataframe tbody tr th:only-of-type {\n",
              "        vertical-align: middle;\n",
              "    }\n",
              "\n",
              "    .dataframe tbody tr th {\n",
              "        vertical-align: top;\n",
              "    }\n",
              "\n",
              "    .dataframe thead th {\n",
              "        text-align: right;\n",
              "    }\n",
              "</style>\n",
              "<table border=\"1\" class=\"dataframe\">\n",
              "  <thead>\n",
              "    <tr style=\"text-align: right;\">\n",
              "      <th></th>\n",
              "      <th>userId</th>\n",
              "      <th>movieId</th>\n",
              "      <th>rating</th>\n",
              "      <th>timestamp</th>\n",
              "      <th>user</th>\n",
              "      <th>movie</th>\n",
              "    </tr>\n",
              "  </thead>\n",
              "  <tbody>\n",
              "    <tr>\n",
              "      <th>67037</th>\n",
              "      <td>432</td>\n",
              "      <td>77866</td>\n",
              "      <td>4.5</td>\n",
              "      <td>1335139641</td>\n",
              "      <td>431</td>\n",
              "      <td>4730</td>\n",
              "    </tr>\n",
              "    <tr>\n",
              "      <th>42175</th>\n",
              "      <td>288</td>\n",
              "      <td>474</td>\n",
              "      <td>3.0</td>\n",
              "      <td>978465565</td>\n",
              "      <td>287</td>\n",
              "      <td>474</td>\n",
              "    </tr>\n",
              "    <tr>\n",
              "      <th>93850</th>\n",
              "      <td>599</td>\n",
              "      <td>4351</td>\n",
              "      <td>3.0</td>\n",
              "      <td>1498524542</td>\n",
              "      <td>598</td>\n",
              "      <td>2631</td>\n",
              "    </tr>\n",
              "    <tr>\n",
              "      <th>6187</th>\n",
              "      <td>42</td>\n",
              "      <td>2987</td>\n",
              "      <td>4.0</td>\n",
              "      <td>996262677</td>\n",
              "      <td>41</td>\n",
              "      <td>194</td>\n",
              "    </tr>\n",
              "    <tr>\n",
              "      <th>12229</th>\n",
              "      <td>75</td>\n",
              "      <td>1610</td>\n",
              "      <td>4.0</td>\n",
              "      <td>1158989841</td>\n",
              "      <td>74</td>\n",
              "      <td>727</td>\n",
              "    </tr>\n",
              "    <tr>\n",
              "      <th>...</th>\n",
              "      <td>...</td>\n",
              "      <td>...</td>\n",
              "      <td>...</td>\n",
              "      <td>...</td>\n",
              "      <td>...</td>\n",
              "      <td>...</td>\n",
              "    </tr>\n",
              "    <tr>\n",
              "      <th>6265</th>\n",
              "      <td>42</td>\n",
              "      <td>4005</td>\n",
              "      <td>4.0</td>\n",
              "      <td>996259059</td>\n",
              "      <td>41</td>\n",
              "      <td>1873</td>\n",
              "    </tr>\n",
              "    <tr>\n",
              "      <th>54886</th>\n",
              "      <td>364</td>\n",
              "      <td>141</td>\n",
              "      <td>4.0</td>\n",
              "      <td>869443367</td>\n",
              "      <td>363</td>\n",
              "      <td>524</td>\n",
              "    </tr>\n",
              "    <tr>\n",
              "      <th>76820</th>\n",
              "      <td>480</td>\n",
              "      <td>6867</td>\n",
              "      <td>4.0</td>\n",
              "      <td>1179163171</td>\n",
              "      <td>479</td>\n",
              "      <td>2240</td>\n",
              "    </tr>\n",
              "    <tr>\n",
              "      <th>860</th>\n",
              "      <td>6</td>\n",
              "      <td>981</td>\n",
              "      <td>3.0</td>\n",
              "      <td>845556567</td>\n",
              "      <td>5</td>\n",
              "      <td>712</td>\n",
              "    </tr>\n",
              "    <tr>\n",
              "      <th>15795</th>\n",
              "      <td>103</td>\n",
              "      <td>6711</td>\n",
              "      <td>5.0</td>\n",
              "      <td>1431957425</td>\n",
              "      <td>102</td>\n",
              "      <td>2046</td>\n",
              "    </tr>\n",
              "  </tbody>\n",
              "</table>\n",
              "<p>100836 rows × 6 columns</p>\n",
              "</div>"
            ],
            "text/plain": [
              "       userId  movieId  rating   timestamp  user  movie\n",
              "67037     432    77866     4.5  1335139641   431   4730\n",
              "42175     288      474     3.0   978465565   287    474\n",
              "93850     599     4351     3.0  1498524542   598   2631\n",
              "6187       42     2987     4.0   996262677    41    194\n",
              "12229      75     1610     4.0  1158989841    74    727\n",
              "...       ...      ...     ...         ...   ...    ...\n",
              "6265       42     4005     4.0   996259059    41   1873\n",
              "54886     364      141     4.0   869443367   363    524\n",
              "76820     480     6867     4.0  1179163171   479   2240\n",
              "860         6      981     3.0   845556567     5    712\n",
              "15795     103     6711     5.0  1431957425   102   2046\n",
              "\n",
              "[100836 rows x 6 columns]"
            ]
          },
          "metadata": {},
          "execution_count": 27
        }
      ]
    },
    {
      "cell_type": "markdown",
      "metadata": {
        "id": "-MBww_JY-aWd"
      },
      "source": [
        "Selanjutnya, kita bagi data train dan validasi dengan komposisi 80:20. Namun sebelumnya, kita perlu memetakan (mapping) data user dan film menjadi satu value terlebih dahulu. Lalu, buatlah rating dalam skala 0 sampai 1 agar mudah dalam melakukan proses training."
      ]
    },
    {
      "cell_type": "code",
      "metadata": {
        "id": "9Mme4lDPQOJS"
      },
      "source": [
        "# buat variabel x untuk mencocokkan data user dan movie menjadi satu\n",
        "x = df[['user', 'movie']].values\n",
        "\n",
        "#buat variable y untuk membuat rating dari hasil\n",
        "y = df['rating'].apply(lambda x: (x - min_rating) / (max_rating - min_rating)).values"
      ],
      "execution_count": null,
      "outputs": []
    },
    {
      "cell_type": "code",
      "metadata": {
        "colab": {
          "base_uri": "https://localhost:8080/"
        },
        "id": "5IFgx7w-tINW",
        "outputId": "a303c018-cdc7-4335-faab-aca228acdb93"
      },
      "source": [
        "#bagi data dengan ratio 80:20 (80% data uji dan 20% data valid)\n",
        "dt_train = int(0.8*df.shape[0])\n",
        "x_train, x_valid, y_train, y_valid = (\n",
        "    x[:dt_train],\n",
        "    x[dt_train:],\n",
        "    y[:dt_train],\n",
        "    y[dt_train:]\n",
        ")\n",
        "\n",
        "print(x,y)"
      ],
      "execution_count": null,
      "outputs": [
        {
          "output_type": "stream",
          "name": "stdout",
          "text": [
            "[[ 431 4730]\n",
            " [ 287  474]\n",
            " [ 598 2631]\n",
            " ...\n",
            " [ 479 2240]\n",
            " [   5  712]\n",
            " [ 102 2046]] [0.88888889 0.55555556 0.55555556 ... 0.77777778 0.55555556 1.        ]\n"
          ]
        }
      ]
    },
    {
      "cell_type": "markdown",
      "metadata": {
        "id": "-ymocLLxM6ew"
      },
      "source": [
        "### Proses Training\n",
        "Pada tahap ini, model menghitung skor kecocokan antara pengguna dan film dengan teknik embedding. Pertama, kita melakukan proses embedding terhadap data user dan film. Selanjutnya, lakukan operasi perkalian dot product antara embedding user dan film. Selain itu, kita juga dapat menambahkan bias untuk setiap user dan film. Skor kecocokan ditetapkan dalam skala [0,1] dengan fungsi aktivasi sigmoid.\n"
      ]
    },
    {
      "cell_type": "code",
      "metadata": {
        "id": "HT1GmmDDM8cb"
      },
      "source": [
        "class RecommenderNet(tf.keras.Model):\n",
        "\n",
        "  # inisialisasi fungsi\n",
        "  def __init__(self, num_user, num_movie, embedding_size, **kwargs):\n",
        "    super(RecommenderNet, self).__init__(**kwargs)\n",
        "    self.num_user = num_user\n",
        "    self.num_movie = num_movie\n",
        "    self.embedding_size = embedding_size\n",
        "    self.user_embedding = layers.Embedding( # layer embedding user\n",
        "        num_user,\n",
        "        embedding_size,\n",
        "        embeddings_initializer = 'he_normal',\n",
        "        embeddings_regularizer = keras.regularizers.l2(1e-6)\n",
        "    )\n",
        "    self.user_bias = layers.Embedding(num_user, 1) # layer embedding user bias\n",
        "    self.movie_embedding = layers.Embedding( # layer embedding movie\n",
        "        num_movie,\n",
        "        embedding_size,\n",
        "        embeddings_initializer = 'he_normal',\n",
        "        embeddings_regularizer = keras.regularizers.l2(1e-6)\n",
        "    )\n",
        "    self.movie_bias= layers.Embedding(num_movie, 1) # layer embedding movie bias\n",
        "\n",
        "  def call(self, inputs):\n",
        "    user_vector = self.user_embedding(inputs[:,0]) # memanggil layer embedding 1\n",
        "    user_bias = self.user_bias(inputs[:,0]) # memanggil layer embedding 2\n",
        "    movie_vector = self.movie_embedding(inputs[:, 1]) # memanggil layer embedding 3\n",
        "    movie_bias = self.movie_bias(inputs[:, 1]) # memanggil layer embedding 4\n",
        "\n",
        "    dot_user_movie = tf.tensordot(user_vector, movie_vector, 2)\n",
        "\n",
        "    x = dot_user_movie + user_bias + movie_bias\n",
        "\n",
        "    return tf.nn.sigmoid(x) # activation sigmoid"
      ],
      "execution_count": null,
      "outputs": []
    },
    {
      "cell_type": "markdown",
      "metadata": {
        "id": "MKDAwvX7BzzF"
      },
      "source": [
        "Selanjutnya, lakukan proses compile terhadap model."
      ]
    },
    {
      "cell_type": "code",
      "metadata": {
        "id": "m1jJkILmYnA9"
      },
      "source": [
        "model = RecommenderNet(num_user, num_movie, 50) # inisialisasi model\n",
        "\n",
        "model.compile(\n",
        "    loss = tf.keras.losses.BinaryCrossentropy(),\n",
        "    optimizer = keras.optimizers.Adam(learning_rate=0.001),\n",
        "    metrics=[tf.keras.metrics.RootMeanSquaredError()]\n",
        ")"
      ],
      "execution_count": null,
      "outputs": []
    },
    {
      "cell_type": "markdown",
      "metadata": {
        "id": "03DvO0JyCCrh"
      },
      "source": [
        "Model ini menggunakan Binary Crossentropy untuk menghitung loss function, Adam (Adaptive Moment Estimation) sebagai optimizer, dan root mean squared error (RMSE) sebagai metrics evaluation.\n",
        "\n",
        "Kemudian, lakukanlah proses training."
      ]
    },
    {
      "cell_type": "code",
      "metadata": {
        "colab": {
          "base_uri": "https://localhost:8080/"
        },
        "id": "n0l4R_ykbZkh",
        "outputId": "bd809c5e-ed9f-46fe-a1a4-c191ae106d20"
      },
      "source": [
        "history = model.fit(\n",
        "    x = x_train,\n",
        "    y = y_train,\n",
        "    batch_size = 8,\n",
        "    epochs = 20,\n",
        "    validation_data = (x_valid, y_valid)\n",
        ")"
      ],
      "execution_count": null,
      "outputs": [
        {
          "output_type": "stream",
          "name": "stdout",
          "text": [
            "Epoch 1/20\n",
            "10084/10084 [==============================] - 63s 6ms/step - loss: 0.6263 - root_mean_squared_error: 0.2219 - val_loss: 0.6132 - val_root_mean_squared_error: 0.2067\n",
            "Epoch 2/20\n",
            "10084/10084 [==============================] - 58s 6ms/step - loss: 0.6047 - root_mean_squared_error: 0.1983 - val_loss: 0.6089 - val_root_mean_squared_error: 0.2017\n",
            "Epoch 3/20\n",
            "10084/10084 [==============================] - 59s 6ms/step - loss: 0.6000 - root_mean_squared_error: 0.1929 - val_loss: 0.6080 - val_root_mean_squared_error: 0.2006\n",
            "Epoch 4/20\n",
            "10084/10084 [==============================] - 58s 6ms/step - loss: 0.5973 - root_mean_squared_error: 0.1897 - val_loss: 0.6069 - val_root_mean_squared_error: 0.1992\n",
            "Epoch 5/20\n",
            "10084/10084 [==============================] - 57s 6ms/step - loss: 0.5959 - root_mean_squared_error: 0.1879 - val_loss: 0.6066 - val_root_mean_squared_error: 0.1986\n",
            "Epoch 6/20\n",
            "10084/10084 [==============================] - 58s 6ms/step - loss: 0.5947 - root_mean_squared_error: 0.1864 - val_loss: 0.6069 - val_root_mean_squared_error: 0.1990\n",
            "Epoch 7/20\n",
            "10084/10084 [==============================] - 60s 6ms/step - loss: 0.5935 - root_mean_squared_error: 0.1850 - val_loss: 0.6059 - val_root_mean_squared_error: 0.1979\n",
            "Epoch 8/20\n",
            "10084/10084 [==============================] - 58s 6ms/step - loss: 0.5924 - root_mean_squared_error: 0.1836 - val_loss: 0.6067 - val_root_mean_squared_error: 0.1986\n",
            "Epoch 9/20\n",
            "10084/10084 [==============================] - 59s 6ms/step - loss: 0.5922 - root_mean_squared_error: 0.1833 - val_loss: 0.6066 - val_root_mean_squared_error: 0.1984\n",
            "Epoch 10/20\n",
            "10084/10084 [==============================] - 60s 6ms/step - loss: 0.5915 - root_mean_squared_error: 0.1825 - val_loss: 0.6066 - val_root_mean_squared_error: 0.1983\n",
            "Epoch 11/20\n",
            "10084/10084 [==============================] - 60s 6ms/step - loss: 0.5910 - root_mean_squared_error: 0.1819 - val_loss: 0.6061 - val_root_mean_squared_error: 0.1977\n",
            "Epoch 12/20\n",
            "10084/10084 [==============================] - 59s 6ms/step - loss: 0.5905 - root_mean_squared_error: 0.1813 - val_loss: 0.6072 - val_root_mean_squared_error: 0.1986\n",
            "Epoch 13/20\n",
            "10084/10084 [==============================] - 59s 6ms/step - loss: 0.5905 - root_mean_squared_error: 0.1812 - val_loss: 0.6068 - val_root_mean_squared_error: 0.1983\n",
            "Epoch 14/20\n",
            "10084/10084 [==============================] - 59s 6ms/step - loss: 0.5899 - root_mean_squared_error: 0.1805 - val_loss: 0.6073 - val_root_mean_squared_error: 0.1988\n",
            "Epoch 15/20\n",
            "10084/10084 [==============================] - 60s 6ms/step - loss: 0.5895 - root_mean_squared_error: 0.1801 - val_loss: 0.6070 - val_root_mean_squared_error: 0.1983\n",
            "Epoch 16/20\n",
            "10084/10084 [==============================] - 59s 6ms/step - loss: 0.5894 - root_mean_squared_error: 0.1800 - val_loss: 0.6073 - val_root_mean_squared_error: 0.1986\n",
            "Epoch 17/20\n",
            "10084/10084 [==============================] - 59s 6ms/step - loss: 0.5894 - root_mean_squared_error: 0.1799 - val_loss: 0.6075 - val_root_mean_squared_error: 0.1988\n",
            "Epoch 18/20\n",
            "10084/10084 [==============================] - 59s 6ms/step - loss: 0.5892 - root_mean_squared_error: 0.1798 - val_loss: 0.6073 - val_root_mean_squared_error: 0.1986\n",
            "Epoch 19/20\n",
            "10084/10084 [==============================] - 59s 6ms/step - loss: 0.5889 - root_mean_squared_error: 0.1793 - val_loss: 0.6079 - val_root_mean_squared_error: 0.1991\n",
            "Epoch 20/20\n",
            "10084/10084 [==============================] - 59s 6ms/step - loss: 0.5889 - root_mean_squared_error: 0.1793 - val_loss: 0.6079 - val_root_mean_squared_error: 0.1991\n"
          ]
        }
      ]
    },
    {
      "cell_type": "markdown",
      "metadata": {
        "id": "sVy88w8iGkN2"
      },
      "source": [
        "## **Evaluation**\n",
        "\n",
        "Metrik yang digunakan pada kasus ini, yaitu RMSE (Root Mean Squared Error) yaitu menghitung rata-rata kuadrat kesalahan antara label dan prediksi. Berikut hasil perbandingan rmse dan loss. "
      ]
    },
    {
      "cell_type": "code",
      "metadata": {
        "colab": {
          "base_uri": "https://localhost:8080/",
          "height": 295
        },
        "id": "S1TbB4MYM8lB",
        "outputId": "65249b2f-683d-43be-eedd-ad8262369643"
      },
      "source": [
        "#membuat plot\n",
        "plt.plot(history.history['root_mean_squared_error'])\n",
        "plt.plot(history.history['val_root_mean_squared_error'])\n",
        "plt.title('model_metrics')\n",
        "plt.ylabel('root_mean_squared_error')\n",
        "plt.xlabel('epoch')\n",
        "plt.legend(['train', 'test'], loc='upper left')\n",
        "plt.show()"
      ],
      "execution_count": null,
      "outputs": [
        {
          "output_type": "display_data",
          "data": {
            "image/png": "[encoded data removed]",
            "text/plain": [
              "<Figure size 432x288 with 1 Axes>"
            ]
          },
          "metadata": {
            "needs_background": "light"
          }
        }
      ]
    },
    {
      "cell_type": "markdown",
      "metadata": {
        "id": "O5M4brdorpw4"
      },
      "source": [
        "## **Pengujian - Mendapatkan Rekomendasi Film**\n",
        "\n",
        "Untuk mendapatkan rekomendasi film, ambil sampel user secara acak dan definisikan variabel **movie_not_watched** yang merupakan daftar film yang belum pernah ditonton oleh pengguna. \n",
        "\n",
        "Sebelumnya, pengguna telah memberi rating pada beberapa film yang telah mereka tonton. Kita menggunakan rating ini untuk membuat rekomendasi film yang mungkin cocok untuk pengguna. \n",
        "\n",
        "Variabel **movie_not_watched** diperoleh dengan menggunakan operator bitwise (~) pada variabel **movie_watched_by_user**."
      ]
    },
    {
      "cell_type": "code",
      "metadata": {
        "id": "30O1IFJnrcZD"
      },
      "source": [
        "movie_df = movies_final\n",
        "df = pd.read_csv('/content/ratings.csv')\n",
        "\n",
        "#mengambil sample user\n",
        "userId = df.userId.sample(1).iloc[0]\n",
        "movie_watched_by_user = df[df.userId == userId]\n",
        "\n",
        "movie_not_watched = movie_df[~movie_df['id'].isin(movie_watched_by_user.movieId.values)]['id'] \n",
        "movie_not_watched = list(\n",
        "    set(movie_not_watched)\n",
        "    .intersection(set(movieId_enc_final.keys()))\n",
        ")\n",
        "     \n",
        "movie_not_watched = [[movieId_enc_final.get(x)] for x in movie_not_watched]\n",
        "user_encoder = userId_enc_final.get(userId)\n",
        "user_movie_array = np.hstack(\n",
        "    ([[user_encoder]] * len(movie_not_watched), movie_not_watched)\n",
        ")"
      ],
      "execution_count": null,
      "outputs": []
    },
    {
      "cell_type": "markdown",
      "metadata": {
        "id": "JteVItl7JyIo"
      },
      "source": [
        "Selanjutnya, untuk memperoleh rekomendasi film, gunakan fungsi model.predict() dari library Keras. "
      ]
    },
    {
      "cell_type": "code",
      "metadata": {
        "colab": {
          "base_uri": "https://localhost:8080/"
        },
        "id": "VgpgdJuLJ3ST",
        "outputId": "d8a492d7-a684-4290-b650-aa22b5adac93"
      },
      "source": [
        "ratings = model.predict(user_movie_array).flatten()\n",
        " \n",
        "top_ratings_indices = ratings.argsort()[-10:][::-1]\n",
        "recommended_movie_ids = [\n",
        "    movieId_enc_to_movie.get(movie_not_watched[x][0]) for x in top_ratings_indices\n",
        "]\n",
        "\n",
        "print('Showing recommendations for users: {}'.format(userId))\n",
        "print('   ' * 9)\n",
        "print('   ' * 9)\n",
        "print('Movie with high ratings from user')\n",
        "print('----' * 8)\n",
        "\n",
        "top_movie_user = (\n",
        "    movie_watched_by_user.sort_values(\n",
        "        by = 'rating',\n",
        "        ascending=False\n",
        "    )\n",
        "    .head(5)\n",
        "    .movieId.values\n",
        ")\n",
        "\n",
        "movie_df_rows = movie_df[movie_df['id'].isin(top_movie_user)]\n",
        "for row in movie_df_rows.itertuples():\n",
        "    print(row.title, ': Genre', row.genre)\n",
        "\n",
        "print('   ' * 8)\n",
        "print('   ' * 8)\n",
        "print('Top 10 movie recommendation')\n",
        "print('----' * 8)\n",
        "\n",
        "recommended_movie = movie_df[movie_df['id'].isin(recommended_movie_ids)]\n",
        "for row in recommended_movie.itertuples():\n",
        "    print(row.title, ': Genre', row.genre)"
      ],
      "execution_count": null,
      "outputs": [
        {
          "output_type": "stream",
          "name": "stdout",
          "text": [
            "Showing recommendations for users: 91\n",
            "                           \n",
            "                           \n",
            "Movie with high ratings from user\n",
            "--------------------------------\n",
            "Desperado (1995) : Genre Action|Romance|Western\n",
            "Thing, The (1982) : Genre Action|Horror|Sci-Fi|Thriller\n",
            "Pitch Black (2000) : Genre Horror|Sci-Fi|Thriller\n",
            "Godfather, The (1972) : Genre Crime|Drama\n",
            "Ginger Snaps (2000) : Genre Drama|Horror|Thriller\n",
            "                        \n",
            "                        \n",
            "Top 10 movie recommendation\n",
            "--------------------------------\n",
            "Bridge on the River Kwai, The (1957) : Genre Adventure|Drama|War\n",
            "Grand Day Out with Wallace and Gromit, A (1989) : Genre Adventure|Animation|Children|Comedy|Sci-Fi\n",
            "Chinatown (1974) : Genre Crime|Film-Noir|Mystery|Thriller\n",
            "Three Billboards Outside Ebbing, Missouri (2017) : Genre Crime|Drama\n",
            "Ran (1985) : Genre Drama|War\n",
            "Seventh Seal, The (Sjunde inseglet, Det) (1957) : Genre Drama\n",
            "Touch of Evil (1958) : Genre Crime|Film-Noir|Thriller\n",
            "Streetcar Named Desire, A (1951) : Genre Drama\n",
            "Trial, The (Procès, Le) (1962) : Genre Drama\n",
            "Paths of Glory (1957) : Genre Drama|War\n"
          ]
        }
      ]
    }
  ]
}